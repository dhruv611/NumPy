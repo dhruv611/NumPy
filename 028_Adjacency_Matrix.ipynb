{
 "cells": [
  {
   "cell_type": "markdown",
   "metadata": {},
   "source": [
    "# Adjacency Matrix"
   ]
  },
  {
   "cell_type": "code",
   "execution_count": 3,
   "metadata": {},
   "outputs": [],
   "source": [
    "import numpy as np"
   ]
  },
  {
   "cell_type": "markdown",
   "metadata": {},
   "source": [
    "<list>\n",
    "<li>Adjacency Matrix - determine value in cell, from an adjacent cell</li>\n",
    "<li>Magic Characteristics - center cell value, center cell coordinates, origin coordinates, polynomial base, </li>\n",
    "<li>Magic Cube - construction and \"dictionary\"</li>\n",
    "</list>"
   ]
  },
  {
   "cell_type": "markdown",
   "metadata": {},
   "source": [
    "<h2>Structure of Adjacency Matrix</h2>"
   ]
  },
  {
   "cell_type": "code",
   "execution_count": 4,
   "metadata": {},
   "outputs": [],
   "source": [
    "import numpy as np\n",
    "\n",
    "class AdjacencyMatrix:\n",
    "    \"\"\"Given a cell within a magic square, an adjacency matrix calculates the value of an adjacent cell\n",
    "\n",
    "    an adjacency matrix can also be used to calculate the value of a non-adjacent cell via 'multiplication'\n",
    "    \"\"\"\n",
    "\n",
    "    def __init__(self, dimensions):\n",
    "        self.dimensions = dimensions\n",
    "        self.matrix = np.ones((dimensions, dimensions), dtype=np.int64)\n",
    "        self.__prepare_matrix()\n",
    "\n",
    "    def __prepare_matrix(self):\n",
    "        for i in range(self.dimensions):\n",
    "            for j in range(self.dimensions):\n",
    "                if ((i + j) > (self.dimensions - 2)):\n",
    "                    self.matrix[i,j] = 1\n",
    "                else:\n",
    "                    self.matrix[i,j] = -1"
   ]
  },
  {
   "cell_type": "code",
   "execution_count": 5,
   "metadata": {},
   "outputs": [],
   "source": [
    "am = AdjacencyMatrix(7).matrix"
   ]
  },
  {
   "cell_type": "code",
   "execution_count": 6,
   "metadata": {},
   "outputs": [
    {
     "data": {
      "text/plain": [
       "matrix([[-1, -1, -1, -1, -1, -1,  1],\n",
       "        [-1, -1, -1, -1, -1,  1,  1],\n",
       "        [-1, -1, -1, -1,  1,  1,  1],\n",
       "        [-1, -1, -1,  1,  1,  1,  1],\n",
       "        [-1, -1,  1,  1,  1,  1,  1],\n",
       "        [-1,  1,  1,  1,  1,  1,  1],\n",
       "        [ 1,  1,  1,  1,  1,  1,  1]], dtype=int64)"
      ]
     },
     "execution_count": 6,
     "metadata": {},
     "output_type": "execute_result"
    }
   ],
   "source": [
    "amm = np.asmatrix(am)\n",
    "amm"
   ]
  },
  {
   "cell_type": "code",
   "execution_count": 7,
   "metadata": {},
   "outputs": [
    {
     "data": {
      "text/plain": [
       "matrix([[-1, -1, -1, -1, -1, -1,  1],\n",
       "        [-1, -1, -1, -1, -1,  1,  1],\n",
       "        [-1, -1, -1, -1,  1,  1,  1],\n",
       "        [-1, -1, -1,  1,  1,  1,  1],\n",
       "        [-1, -1,  1,  1,  1,  1,  1],\n",
       "        [-1,  1,  1,  1,  1,  1,  1],\n",
       "        [ 1,  1,  1,  1,  1,  1,  1]], dtype=int64)"
      ]
     },
     "execution_count": 7,
     "metadata": {},
     "output_type": "execute_result"
    }
   ],
   "source": [
    "ammt = amm.T\n",
    "ammt"
   ]
  },
  {
   "cell_type": "code",
   "execution_count": 8,
   "metadata": {},
   "outputs": [
    {
     "data": {
      "text/plain": [
       "matrix([[-0. , -0. , -0. , -0. , -0. , -0.5,  0.5],\n",
       "        [ 0. ,  0. ,  0. ,  0. , -0.5,  0.5,  0. ],\n",
       "        [ 0. ,  0. ,  0. , -0.5,  0.5,  0. ,  0. ],\n",
       "        [ 0. ,  0. , -0.5,  0.5,  0. ,  0. ,  0. ],\n",
       "        [ 0. , -0.5,  0.5,  0. ,  0. ,  0. ,  0. ],\n",
       "        [-0.5,  0.5,  0. ,  0. ,  0. ,  0. , -0. ],\n",
       "        [ 0.5, -0. , -0. , -0. , -0. , -0. ,  0.5]])"
      ]
     },
     "execution_count": 8,
     "metadata": {},
     "output_type": "execute_result"
    }
   ],
   "source": [
    "ammt.I"
   ]
  },
  {
   "cell_type": "code",
   "execution_count": null,
   "metadata": {},
   "outputs": [],
   "source": []
  }
 ],
 "metadata": {
  "kernelspec": {
   "display_name": "Python 3",
   "language": "python",
   "name": "python3"
  },
  "language_info": {
   "codemirror_mode": {
    "name": "ipython",
    "version": 3
   },
   "file_extension": ".py",
   "mimetype": "text/x-python",
   "name": "python",
   "nbconvert_exporter": "python",
   "pygments_lexer": "ipython3",
   "version": "3.7.6"
  }
 },
 "nbformat": 4,
 "nbformat_minor": 1
}
